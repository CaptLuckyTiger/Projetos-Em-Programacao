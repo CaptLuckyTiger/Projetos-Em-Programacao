{
  "cells": [
    {
      "cell_type": "markdown",
      "id": "be25e294",
      "metadata": {
        "id": "be25e294"
      },
      "source": [
        "# Sobre o conjunto de dados\n",
        "\n",
        "A doença por coronavírus (COVID-19) é uma doença infecciosa causada pelo vírus SARS-CoV-2.\n",
        "\n",
        "A maioria das pessoas infectadas com o vírus experimentará doenças respiratórias leves a moderadas e se recuperará sem a necessidade de tratamento especial. No entanto, alguns ficarão gravemente doentes e precisarão de atenção médica. Pessoas idosas e aqueles com condições médicas subjacentes, como doenças cardiovasculares, diabetes, doenças respiratórias crônicas ou câncer, são mais propensos a desenvolver doenças graves. Qualquer pessoa pode ficar doente com COVID-19 e ficar gravemente doente ou morrer em qualquer idade.\n",
        "\n",
        "A melhor maneira de prevenir e retardar a transmissão é estar bem informado sobre a doença e como o vírus se espalha. Proteja-se e aos outros da infecção, permanecendo a pelo menos 1 metro de distância dos outros, usando uma máscara devidamente ajustada e lavando as mãos ou usando uma fricção à base de álcool com frequência. Vacine-se quando for a sua vez e siga as orientações locais.\n",
        "\n",
        "O vírus pode se espalhar da boca ou nariz de uma pessoa infectada em pequenas partículas líquidas quando tosse, espirra, fala, canta ou respira. Essas partículas variam de gotículas respiratórias maiores a aerossóis menores. É importante praticar a etiqueta respiratória, por exemplo, tossindo em um cotovelo flexionado, e ficar em casa e se auto-isolar até se recuperar se você se sentir mal.\n",
        "\n",
        "Todo projeto deve iniciar com a análise dos dados, para tanto faz-se necessário:\n",
        "- Importar as bibliotecas necessárias;\n",
        "- Importar as bases a serem utilizadas no projeto;\n",
        "- Visualizar os dados contidos na base;\n",
        "- Verificar a inconsistência do domínio dos dados;\n",
        "- Corrigir as inconsistências do domínio (tipo) dos dados;\n",
        "- Verificar colunas não necessárias no modelo e excluí-las;\n",
        "- Verificar a existência de dados não preenchidos na base;\n",
        "- Decidir o quê deverá ser feito com estas colunas/linhas (excluir, preencher com determinados valores, ...)\n",
        "- Visualizar novamente a base;\n",
        "- Análise estatística rápida da base, obtendo a: média, mediana, moda, desvio padrão, quartis...\n",
        "- Aplicar filtros para entender os dados;\n",
        "\n",
        "\n",
        "## De acordo com a descrição, faça o tratamento dos dados e responda as seguintes questões:\n",
        "\n",
        "### Os top 10 países que mais registraram casos de COVID?\n",
        "### Os top 10 países que mais apresentaram casos de morte por COVID?\n",
        "### Onde os casos ainda são altos?"
      ]
    },
    {
      "cell_type": "code",
      "execution_count": null,
      "id": "71b0f570",
      "metadata": {
        "execution": {
          "iopub.execute_input": "2023-03-22T07:30:04.440180Z",
          "iopub.status.busy": "2023-03-22T07:30:04.439726Z",
          "iopub.status.idle": "2023-03-22T07:30:05.589011Z",
          "shell.execute_reply": "2023-03-22T07:30:05.587042Z"
        },
        "papermill": {
          "duration": 1.16286,
          "end_time": "2023-03-22T07:30:05.592472",
          "exception": false,
          "start_time": "2023-03-22T07:30:04.429612",
          "status": "completed"
        },
        "tags": [],
        "id": "71b0f570"
      },
      "outputs": [],
      "source": [
        "# Importar as bibliotecas necessárias para realizar a análise de dados\n",
        "import pandas as pd\n",
        "import numpy as np\n"
      ]
    },
    {
      "cell_type": "code",
      "execution_count": null,
      "id": "8ebdf94b",
      "metadata": {
        "colab": {
          "base_uri": "https://localhost:8080/"
        },
        "id": "8ebdf94b",
        "outputId": "2cde28fa-3560-4711-9d25-98f1956cb7f2"
      },
      "outputs": [
        {
          "output_type": "stream",
          "name": "stdout",
          "text": [
            "Mounted at /content/drive\n"
          ]
        }
      ],
      "source": [
        "# Importar a base de dados\n",
        "from google.colab import drive\n",
        "drive.mount('/content/drive')\n",
        "caminho_do_arquivo = '/content/drive/MyDrive/Colab Notebooks/covid_worldwide.csv'\n",
        "\n",
        "\n",
        "import pandas as pd\n",
        "df = pd.read_csv(caminho_do_arquivo)"
      ]
    },
    {
      "cell_type": "code",
      "execution_count": null,
      "id": "b38c72ac",
      "metadata": {
        "colab": {
          "base_uri": "https://localhost:8080/"
        },
        "id": "b38c72ac",
        "outputId": "6f0ec9a1-9f3f-45b9-faa9-c459e9343575"
      },
      "outputs": [
        {
          "output_type": "stream",
          "name": "stdout",
          "text": [
            "   Serial Number   Country  Total Cases Total Deaths Total Recovered  \\\n",
            "0              1       USA  104,196,861    1,132,935     101,322,779   \n",
            "1              2     India   44,682,784      530,740      44,150,289   \n",
            "2              3    France   39,524,311      164,233      39,264,546   \n",
            "3              4   Germany   37,779,833      165,711      37,398,100   \n",
            "4              5    Brazil   36,824,580      697,074      35,919,372   \n",
            "5              6     Japan   32,588,442       68,399      21,567,425   \n",
            "6              7  S. Korea   30,197,066       33,486      29,740,877   \n",
            "7              8     Italy   25,453,789      186,833      25,014,986   \n",
            "8              9        UK   24,274,361      204,171      24,020,088   \n",
            "9             10    Russia   21,958,696      395,108      21,356,008   \n",
            "\n",
            "  Active Cases     Total Test     Population  \n",
            "0    1,741,147  1,159,832,679    334,805,269  \n",
            "1        1,755    915,265,788  1,406,631,776  \n",
            "2       95,532    271,490,188     65,584,518  \n",
            "3      216,022    122,332,384     83,883,596  \n",
            "4      208,134     63,776,166    215,353,593  \n",
            "5   10,952,618     92,144,639    125,584,838  \n",
            "6      422,703     15,804,065     51,329,899  \n",
            "7      251,970    265,478,247     60,262,770  \n",
            "8       50,102    522,526,476     68,497,907  \n",
            "9      207,580    273,400,000    145,805,947  \n"
          ]
        }
      ],
      "source": [
        "# Visualizar as 10 primeiras linhas\n",
        "print(df.head(10))\n"
      ]
    },
    {
      "cell_type": "code",
      "execution_count": null,
      "id": "d65140b9",
      "metadata": {
        "colab": {
          "base_uri": "https://localhost:8080/"
        },
        "id": "d65140b9",
        "outputId": "47ea63e5-e607-481b-def8-0784ff53ad64"
      },
      "outputs": [
        {
          "output_type": "stream",
          "name": "stdout",
          "text": [
            "     Serial Number           Country Total Cases Total Deaths Total Recovered  \\\n",
            "226            227  Diamond Princess         712           13             699   \n",
            "227            228      Vatican City          29          NaN              29   \n",
            "228            229    Western Sahara          10            1               9   \n",
            "229            230        MS Zaandam           9            2               7   \n",
            "230            231           Tokelau           5          NaN             NaN   \n",
            "\n",
            "    Active Cases Total Test Population  \n",
            "226            0        NaN        NaN  \n",
            "227            0        NaN        799  \n",
            "228            0        NaN    626,161  \n",
            "229            0        NaN        NaN  \n",
            "230            5        NaN      1,378  \n"
          ]
        }
      ],
      "source": [
        "# Visualizar as 5 últimas linhas\n",
        "print(df.tail(5))\n"
      ]
    },
    {
      "cell_type": "code",
      "execution_count": null,
      "id": "38d29926",
      "metadata": {
        "colab": {
          "base_uri": "https://localhost:8080/"
        },
        "id": "38d29926",
        "outputId": "48c6556c-fb82-4015-8b67-45b4d0b758b3"
      },
      "outputs": [
        {
          "output_type": "stream",
          "name": "stdout",
          "text": [
            "(231, 8)\n"
          ]
        }
      ],
      "source": [
        "# Visualizar a quantidade de linhas e colunas da base de dados\n",
        "print(df.shape)\n"
      ]
    },
    {
      "cell_type": "code",
      "execution_count": null,
      "id": "a4afbb55",
      "metadata": {
        "colab": {
          "base_uri": "https://localhost:8080/"
        },
        "id": "a4afbb55",
        "outputId": "c053aaa8-35d7-4ddc-ef5a-3c89dafe6011"
      },
      "outputs": [
        {
          "output_type": "stream",
          "name": "stdout",
          "text": [
            "Serial Number       int64\n",
            "Country            object\n",
            "Total Cases        object\n",
            "Total Deaths       object\n",
            "Total Recovered    object\n",
            "Active Cases       object\n",
            "Total Test         object\n",
            "Population         object\n",
            "dtype: object\n",
            "Serial Number       0\n",
            "Country             0\n",
            "Total Cases         0\n",
            "Total Deaths        6\n",
            "Total Recovered    21\n",
            "Active Cases       19\n",
            "Total Test         18\n",
            "Population          3\n",
            "dtype: int64\n"
          ]
        }
      ],
      "source": [
        "# Verificar os tipos dos campos, se estes estão nulos ou não\n",
        "print(df.dtypes)\n",
        "print(df.isnull().sum())\n",
        "\n"
      ]
    },
    {
      "cell_type": "code",
      "execution_count": null,
      "id": "e93a97ac",
      "metadata": {
        "id": "e93a97ac"
      },
      "outputs": [],
      "source": [
        "# Transformar os campos tipo Object para Float, com exceção do nome dos países\n",
        "def converter_para_float(coluna):\n",
        "    if coluna.name != 'nome_do_pais':  # Substitua 'nome_do_pais' pelo nome real da sua coluna de países\n",
        "        return pd.to_numeric(coluna, errors='coerce')\n",
        "    return coluna\n",
        "\n",
        "df_transformado = df.apply(converter_para_float)\n"
      ]
    },
    {
      "cell_type": "code",
      "execution_count": null,
      "id": "4d823364",
      "metadata": {
        "colab": {
          "base_uri": "https://localhost:8080/"
        },
        "id": "4d823364",
        "outputId": "9fea156b-945e-4a05-aab7-11238dfdac6c"
      },
      "outputs": [
        {
          "output_type": "stream",
          "name": "stdout",
          "text": [
            "Serial Number      0\n",
            "Country            0\n",
            "Total Cases        0\n",
            "Total Deaths       0\n",
            "Total Recovered    0\n",
            "Active Cases       0\n",
            "Total Test         0\n",
            "Population         0\n",
            "dtype: int64\n"
          ]
        }
      ],
      "source": [
        "# Tratar os dados inconsistentes (sem valor)\n",
        "import pandas as pd\n",
        "df = df.dropna()\n",
        "df = df.dropna(how='all')\n",
        "print(df.isnull().sum())"
      ]
    },
    {
      "cell_type": "code",
      "execution_count": null,
      "id": "1774e0c9",
      "metadata": {
        "id": "1774e0c9"
      },
      "outputs": [],
      "source": [
        "# Excluir o campos desnecessários na base\n",
        "# Para excluir linhas onde as colunas 'coluna1' ou 'coluna2' contêm 'N/A'\n",
        "df = df.dropna(subset=['Total Recovered', 'Active Cases'])\n"
      ]
    },
    {
      "cell_type": "code",
      "execution_count": null,
      "id": "93cd7ac4",
      "metadata": {
        "id": "93cd7ac4",
        "colab": {
          "base_uri": "https://localhost:8080/"
        },
        "outputId": "9d2f3e72-9b8a-40bb-b665-2938f888743f"
      },
      "outputs": [
        {
          "output_type": "stream",
          "name": "stdout",
          "text": [
            "     Serial Number                 Country  Total Cases Total Deaths  \\\n",
            "0                1                     USA  104,196,861    1,132,935   \n",
            "1                2                   India   44,682,784      530,740   \n",
            "2                3                  France   39,524,311      164,233   \n",
            "3                4                 Germany   37,779,833      165,711   \n",
            "4                5                  Brazil   36,824,580      697,074   \n",
            "5                6                   Japan   32,588,442       68,399   \n",
            "6                7                S. Korea   30,197,066       33,486   \n",
            "7                8                   Italy   25,453,789      186,833   \n",
            "8                9                      UK   24,274,361      204,171   \n",
            "9               10                  Russia   21,958,696      395,108   \n",
            "11              12                   Spain   13,731,478      118,434   \n",
            "12              13                 Vietnam   11,526,508       43,186   \n",
            "13              14               Australia   11,295,446       18,615   \n",
            "14              15               Argentina   10,037,135      130,421   \n",
            "15              16                  Taiwan    9,569,611       16,356   \n",
            "16              17             Netherlands    8,582,500       22,989   \n",
            "17              18                    Iran    7,564,350      144,749   \n",
            "18              19                  Mexico    7,368,252      332,198   \n",
            "19              20               Indonesia    6,730,289      160,817   \n",
            "20              21                  Poland    6,380,225      118,736   \n",
            "21              22                Colombia    6,356,309      142,486   \n",
            "22              23                 Austria    5,780,229       21,689   \n",
            "23              24                  Greece    5,708,301       35,630   \n",
            "24              25                Portugal    5,563,907       26,022   \n",
            "25              26                 Ukraine    5,370,131      111,020   \n",
            "26              27                   Chile    5,118,981       63,812   \n",
            "27              28                Malaysia    5,036,593       36,942   \n",
            "28              29                  Israel    4,786,189       12,193   \n",
            "30              31                Thailand    4,726,984       33,865   \n",
            "31              32                 Belgium    4,691,499       33,557   \n",
            "32              33                 Czechia    4,590,019       42,312   \n",
            "33              34                  Canada    4,550,256       50,380   \n",
            "34              35                    Peru    4,481,621      218,931   \n",
            "35              36             Switzerland    4,385,701       14,452   \n",
            "36              37             Philippines    4,073,454       65,802   \n",
            "37              38            South Africa    4,055,966      102,595   \n",
            "38              39                 Romania    3,325,006       67,576   \n",
            "39              40                 Denmark    3,173,247        8,145   \n",
            "40              41               Hong Kong    2,877,280       13,358   \n",
            "41              42                  Sweden    2,693,458       23,246   \n",
            "42              43                  Serbia    2,471,198       17,701   \n",
            "43              44                    Iraq    2,465,545       25,375   \n",
            "44              45               Singapore    2,217,110        1,722   \n",
            "45              46                 Hungary    2,192,447       48,677   \n",
            "46              47             New Zealand    2,182,355        3,781   \n",
            "47              48              Bangladesh    2,037,556       29,442   \n",
            "48              49                Slovakia    1,860,893       20,946   \n",
            "49              50                 Georgia    1,814,180       16,926   \n",
            "50              51                  Jordan    1,746,997       14,122   \n",
            "51              52                 Ireland    1,700,253        8,462   \n",
            "52              53                Pakistan    1,576,313       30,640   \n",
            "53              54                  Norway    1,477,856        5,112   \n",
            "54              55                 Finland    1,458,619        8,639   \n",
            "55              56              Kazakhstan    1,405,917       13,695   \n",
            "56              57                Slovenia    1,321,852        7,056   \n",
            "57              58               Lithuania    1,296,865        9,545   \n",
            "58              59                Bulgaria    1,295,426       38,179   \n",
            "59              60                 Morocco    1,272,240       16,296   \n",
            "60              61                 Croatia    1,267,580       17,877   \n",
            "61              62                 Lebanon    1,228,639       10,790   \n",
            "62              63               Guatemala    1,227,853       20,106   \n",
            "63              64                 Bolivia    1,187,986       22,346   \n",
            "64              65              Costa Rica    1,186,176        9,158   \n",
            "66              67                    Cuba    1,112,438        8,530   \n",
            "67              68                 Ecuador    1,051,239       35,942   \n",
            "68              69                     UAE    1,049,409        2,348   \n",
            "69              70                 Uruguay    1,032,710        7,609   \n",
            "70              71                  Panama    1,029,701        8,596   \n",
            "71              72                Mongolia    1,007,871        2,179   \n",
            "72              73                   Nepal    1,001,102       12,020   \n",
            "73              74                 Belarus      994,037        7,118   \n",
            "74              75                  Latvia      975,355        6,218   \n",
            "75              76            Saudi Arabia      827,962        9,574   \n",
            "76              77              Azerbaijan      827,944       10,085   \n",
            "78              79                 Bahrain      700,452        1,543   \n",
            "79              80               Sri Lanka      671,989       16,828   \n",
            "80              81                  Kuwait      662,858        2,570   \n",
            "81              82      Dominican Republic      660,095        4,384   \n",
            "82              83                  Cyprus      642,663        1,287   \n",
            "83              84                 Myanmar      633,820       19,490   \n",
            "84              85               Palestine      621,008        5,404   \n",
            "85              86                 Estonia      613,891        2,912   \n",
            "86              87                 Moldova      598,673       11,953   \n",
            "87              88               Venezuela      551,587        5,845   \n",
            "88              89                   Egypt      515,645       24,613   \n",
            "89              90                   Libya      507,162        6,437   \n",
            "91              92                Ethiopia      499,531        7,572   \n",
            "92              93                   Qatar      492,534          686   \n",
            "93              94                 Réunion      485,895          919   \n",
            "95              96                 Armenia      446,008        8,717   \n",
            "96              97  Bosnia and Herzegovina      401,384       16,255   \n",
            "97              98                    Oman      399,449        4,628   \n",
            "98              99         North Macedonia      346,428        9,638   \n",
            "99             100                   Kenya      342,810        5,688   \n",
            "100            101                  Zambia      340,763        4,047   \n",
            "101            102                 Albania      334,167        3,595   \n",
            "102            103                Botswana      329,227        2,800   \n",
            "103            104              Luxembourg      297,757        1,133   \n",
            "104            105              Montenegro      286,355        2,797   \n",
            "105            106                  Brunei      275,220          225   \n",
            "106            107                 Algeria      271,378        6,881   \n",
            "107            108                 Nigeria      266,463        3,155   \n",
            "108            109                Zimbabwe      261,606        5,652   \n",
            "109            110              Uzbekistan      250,567        1,637   \n",
            "110            111              Mozambique      231,994        2,233   \n",
            "114            115             Afghanistan      208,545        7,882   \n",
            "115            116              Kyrgyzstan      206,592        2,991   \n",
            "116            117             El Salvador      201,785        4,230   \n",
            "118            119     Trinidad and Tobago      187,908        4,326   \n",
            "119            120                Maldives      185,715          311   \n",
            "120            121                   Ghana      171,112        1,462   \n",
            "121            122                 Namibia      170,741        4,088   \n",
            "122            123                  Uganda      170,400        3,630   \n",
            "123            124                 Jamaica      153,407        3,480   \n",
            "124            125                Cambodia      138,693        3,056   \n",
            "125            126                  Rwanda      133,090        1,468   \n",
            "126            127                Cameroon      123,993        1,965   \n",
            "127            128                   Malta      117,062          824   \n",
            "128            129                Barbados      106,157          571   \n",
            "129            130                  Angola      105,184        1,931   \n",
            "130            131         Channel Islands      101,116          223   \n",
            "131            132           French Guiana       98,028          420   \n",
            "132            133                     DRC       95,514        1,463   \n",
            "133            134                 Senegal       88,902        1,971   \n",
            "134            135                  Malawi       88,559        2,686   \n",
            "135            136             Ivory Coast       87,982          833   \n",
            "137            138           New Caledonia       79,845          314   \n",
            "139            140                Eswatini       74,133        1,422   \n",
            "140            141                  Guyana       72,950        1,294   \n",
            "141            142                  Belize       70,660          688   \n",
            "142            143                    Fiji       68,820          883   \n",
            "143            144              Madagascar       67,827        1,419   \n",
            "144            145                   Sudan       63,742        5,001   \n",
            "145            146              Mauritania       63,665          997   \n",
            "146            147              Cabo Verde       63,229          413   \n",
            "147            148                  Bhutan       62,605           21   \n",
            "148            149                   Syria       57,453        3,164   \n",
            "149            150                 Burundi       53,492           38   \n",
            "151            152                   Gabon       48,981          306   \n",
            "152            153                 Andorra       47,839          165   \n",
            "153            154        Papua New Guinea       46,750          670   \n",
            "154            155                 Curaçao       45,986          295   \n",
            "155            156                   Aruba       43,993          236   \n",
            "158            159               Mauritius       41,652        1,043   \n",
            "159            160                    Togo       39,354          290   \n",
            "160            161                  Guinea       38,240          467   \n",
            "162            163                 Bahamas       37,491          833   \n",
            "163            164                 Lesotho       34,790          723   \n",
            "165            166                   Haiti       34,076          860   \n",
            "166            167                    Mali       32,783          743   \n",
            "167            168          Cayman Islands       31,472           37   \n",
            "168            169             Saint Lucia       29,803          409   \n",
            "169            170                   Benin       27,989          163   \n",
            "170            171                 Somalia       27,318        1,361   \n",
            "171            172                   Congo       25,375          386   \n",
            "173            174              San Marino       23,427          122   \n",
            "174            175             Timor-Leste       23,415          138   \n",
            "176            177            Burkina Faso       22,025          396   \n",
            "177            178           Liechtenstein       21,340           89   \n",
            "178            179               Gibraltar       20,399          111   \n",
            "179            180                 Grenada       19,680          238   \n",
            "180            181                 Bermuda       18,766          157   \n",
            "182            183             South Sudan       18,368          138   \n",
            "184            185       Equatorial Guinea       17,190          183   \n",
            "185            186                   Tonga       16,734           13   \n",
            "186            187                   Samoa       16,087           29   \n",
            "187            188                  Monaco       16,056           65   \n",
            "188            189                Dominica       15,760           74   \n",
            "189            190                Djibouti       15,690          189   \n",
            "191            192                     CAR       15,368          113   \n",
            "192            193                  Gambia       12,586          372   \n",
            "193            194            Saint Martin       12,233           63   \n",
            "194            195                 Vanuatu       12,014           14   \n",
            "195            196               Greenland       11,971           21   \n",
            "196            197                   Yemen       11,945        2,159   \n",
            "197            198   Caribbean Netherlands       11,661           38   \n",
            "198            199            Sint Maarten       11,010           89   \n",
            "199            200                 Eritrea       10,189          103   \n",
            "200            201                   Niger        9,931          312   \n",
            "201            202  St. Vincent Grenadines        9,585          123   \n",
            "202            203     Antigua and Barbuda        9,106          146   \n",
            "204            205           Guinea-Bissau        8,947          176   \n",
            "205            206                 Liberia        8,062          294   \n",
            "207            208                    Chad        7,652          194   \n",
            "209            210            Cook Islands        7,011            2   \n",
            "210            211   Saint Kitts and Nevis        6,592           46   \n",
            "211            212        Turks and Caicos        6,522           38   \n",
            "212            213   Sao Tome and Principe        6,280           77   \n",
            "213            214                   Palau        5,986            9   \n",
            "216            217                   Nauru        4,621            1   \n",
            "217            218                Anguilla        3,904           12   \n",
            "218            219                   Macao        3,488          120   \n",
            "219            220   Saint Pierre Miquelon        3,452            2   \n",
            "220            221       Wallis and Futuna        3,427            7   \n",
            "224            225              Montserrat        1,403            8   \n",
            "\n",
            "    Total Recovered Active Cases     Total Test     Population  \n",
            "0       101,322,779    1,741,147  1,159,832,679    334,805,269  \n",
            "1        44,150,289        1,755    915,265,788  1,406,631,776  \n",
            "2        39,264,546       95,532    271,490,188     65,584,518  \n",
            "3        37,398,100      216,022    122,332,384     83,883,596  \n",
            "4        35,919,372      208,134     63,776,166    215,353,593  \n",
            "5        21,567,425   10,952,618     92,144,639    125,584,838  \n",
            "6        29,740,877      422,703     15,804,065     51,329,899  \n",
            "7        25,014,986      251,970    265,478,247     60,262,770  \n",
            "8        24,020,088       50,102    522,526,476     68,497,907  \n",
            "9        21,356,008      207,580    273,400,000    145,805,947  \n",
            "11       13,557,699       55,345    471,036,328     46,719,142  \n",
            "12       10,612,479      870,843     85,826,548     98,953,541  \n",
            "13       11,235,771       41,060     78,835,048     26,068,792  \n",
            "14        9,877,032       29,682     35,716,069     46,010,234  \n",
            "15        9,129,766      423,489     30,207,485     23,888,595  \n",
            "16        8,547,771       11,740     25,984,435     17,211,447  \n",
            "17        7,337,549       82,052     54,420,785     86,022,837  \n",
            "18        6,606,633      429,421     19,356,195    131,562,772  \n",
            "19        6,565,208        4,264    114,158,919    279,134,505  \n",
            "20        5,335,940      925,549     38,118,630     37,739,785  \n",
            "21        6,179,501       34,322     36,951,507     51,512,762  \n",
            "22        5,730,189       28,351    211,273,524      9,066,710  \n",
            "23        5,662,212       10,459    102,228,365     10,316,637  \n",
            "24        5,532,366        5,519     45,915,651     10,140,570  \n",
            "25        5,253,302        5,809     32,603,805     43,192,122  \n",
            "26        5,051,555        3,614     48,127,301     19,250,195  \n",
            "27        4,989,861        9,790     67,665,089     33,181,072  \n",
            "28        4,768,242        5,754     41,373,364      9,326,000  \n",
            "30        4,692,636          483     17,270,775     70,078,203  \n",
            "31        4,644,681       13,261     36,548,544     11,668,278  \n",
            "32        4,538,304        9,403     56,893,223     10,736,784  \n",
            "33        4,444,013       55,863     66,343,123     38,388,419  \n",
            "34        4,258,688        4,002     37,754,603     33,684,208  \n",
            "35        4,366,770        4,479     23,318,743      8,773,637  \n",
            "36        3,998,048        9,604     34,343,332    112,508,994  \n",
            "37        3,912,506       40,865     26,473,049     60,756,135  \n",
            "38        3,252,104        5,326     26,389,988     19,031,335  \n",
            "39        3,163,849        1,253    129,144,754      5,834,950  \n",
            "40        2,509,483      354,439     76,123,870      7,604,299  \n",
            "41        2,658,039       12,173     19,410,527     10,218,971  \n",
            "42        2,440,527       12,970     12,154,486      8,653,016  \n",
            "43        2,439,497          673     19,544,451     42,164,965  \n",
            "44        2,144,490       70,898     24,756,666      5,943,546  \n",
            "45        2,139,857        3,913     11,394,556      9,606,259  \n",
            "46        2,169,320        9,254      7,710,637      4,898,203  \n",
            "47        1,992,694       15,420     15,247,014    167,885,689  \n",
            "48        1,839,309          638      7,390,781      5,460,193  \n",
            "49        1,776,548       20,706     16,920,079      3,968,738  \n",
            "50        1,731,007        1,868     17,201,885     10,300,869  \n",
            "51        1,685,183        6,608     12,984,257      5,020,199  \n",
            "52        1,538,689        6,984     30,570,862    229,488,994  \n",
            "53        1,471,835          909     11,002,430      5,511,370  \n",
            "54        1,447,569        2,411     12,017,711      5,554,960  \n",
            "55        1,383,020        9,202     11,575,012     19,205,043  \n",
            "56        1,311,159        3,637      2,824,843      2,078,034  \n",
            "57        1,282,528        4,792     10,350,770      2,661,708  \n",
            "58        1,254,491        2,756     10,987,749      6,844,597  \n",
            "59        1,255,881           63     12,930,733     37,772,756  \n",
            "60        1,249,168          535      5,476,183      4,059,286  \n",
            "61        1,087,587      130,262      4,795,578      6,684,849  \n",
            "62        1,204,545        3,202      6,757,892     18,584,039  \n",
            "63        1,146,143       19,497      2,705,422     11,992,656  \n",
            "64          860,711      316,307      4,659,757      5,182,354  \n",
            "66        1,103,799          109     14,298,479     11,305,652  \n",
            "67        1,011,682        3,615      3,082,403     18,113,361  \n",
            "68        1,032,735       14,326    198,638,806     10,081,785  \n",
            "69        1,023,939        1,162      6,114,822      3,496,016  \n",
            "70        1,020,206          899      7,475,016      4,446,964  \n",
            "71        1,005,658           34      4,030,048      3,378,078  \n",
            "72          989,064           18      6,003,944     30,225,582  \n",
            "73          985,592        1,327     13,646,641      9,432,800  \n",
            "74          968,830          307      7,858,319      1,848,837  \n",
            "75          815,528        2,860     45,048,008     35,844,909  \n",
            "76          817,654          205      7,487,550     10,300,205  \n",
            "78          698,400          509     10,682,444      1,783,983  \n",
            "79          655,158            3      6,486,117     21,575,842  \n",
            "80          660,237           51      8,455,743      4,380,326  \n",
            "81          644,785       10,926      3,740,928     11,056,370  \n",
            "82          633,422        7,954      9,640,118      1,223,387  \n",
            "83          614,299           31      9,941,945     55,227,143  \n",
            "84          615,445          159      3,078,533      5,345,541  \n",
            "85          524,990       85,989      3,659,157      1,321,910  \n",
            "86          504,142       82,578      3,216,305      4,013,171  \n",
            "87          545,003          739      3,359,014     29,266,991  \n",
            "88          442,182       48,850      3,693,367    106,156,692  \n",
            "89          500,721            4      2,483,446      7,040,745  \n",
            "91          486,531        5,428      5,459,809    120,812,698  \n",
            "92          491,585          263      4,065,369      2,979,915  \n",
            "93          418,572       66,404      1,603,660        908,061  \n",
            "95          435,162        2,129      3,242,901      2,971,966  \n",
            "96          379,084        6,045      1,884,721      3,249,317  \n",
            "97          384,669       10,152     25,000,000      5,323,993  \n",
            "98          336,623          167      2,216,193      2,081,304  \n",
            "99          337,040           82      3,967,062     56,215,221  \n",
            "100         335,104        1,612      3,865,993     19,470,234  \n",
            "101         328,951        1,621      1,941,032      2,866,374  \n",
            "102         325,934          493      2,026,898      2,441,162  \n",
            "103         288,991        7,633      4,412,567        642,371  \n",
            "104         283,210          348      2,697,814        627,950  \n",
            "105         243,601       31,394        717,784        445,431  \n",
            "106         182,749       81,748        230,861     45,350,148  \n",
            "107         259,850        3,458      5,708,974    216,746,934  \n",
            "108         254,951        1,003      2,525,756     15,331,428  \n",
            "109         241,486        7,444      1,377,915     34,382,084  \n",
            "110         228,805          956      1,371,127     33,089,461  \n",
            "114         186,088       14,575      1,188,898     40,754,388  \n",
            "115         196,406        7,195      1,907,195      6,728,271  \n",
            "116         179,410       18,145      2,610,114      6,550,389  \n",
            "118         183,264          318        888,936      1,406,585  \n",
            "119         163,687       21,717      2,213,831        540,985  \n",
            "120         169,636           14      2,527,319     32,395,450  \n",
            "121         166,452          201      1,062,663      2,633,874  \n",
            "122         100,431       66,339      3,012,408     48,432,863  \n",
            "123         102,212       47,715      1,183,986      2,985,094  \n",
            "124         135,624           13      3,091,420     17,168,639  \n",
            "125         131,559           63      5,959,042     13,600,464  \n",
            "126         118,616        3,412      1,751,774     27,911,548  \n",
            "127         115,623          615      2,109,235        444,033  \n",
            "128         105,570           16        790,354        288,023  \n",
            "129         103,216           37      1,499,795     35,027,343  \n",
            "130         100,778          115      1,252,808        176,463  \n",
            "131          11,254       86,354        651,257        314,169  \n",
            "132          84,264        9,787        846,704     95,240,792  \n",
            "133          86,929            2      1,146,543     17,653,671  \n",
            "134          85,369          504        624,784     20,180,839  \n",
            "135          87,138           11      1,671,684     27,742,298  \n",
            "137          79,526            5         98,964        290,915  \n",
            "139          72,676           35      1,048,704      1,184,817  \n",
            "140          71,357          299        717,867        794,045  \n",
            "141          69,949           23        576,016        412,190  \n",
            "142          66,780        1,157        667,715        909,466  \n",
            "143          66,370           38        524,209     29,178,077  \n",
            "144          58,284          457        562,941     45,992,020  \n",
            "145          62,437          231      1,009,957      4,901,981  \n",
            "146          62,756           60        401,622        567,678  \n",
            "147          61,564        1,020      2,303,734        787,941  \n",
            "148          54,289            0        146,269     19,364,809  \n",
            "149          53,394           60        345,742     12,624,840  \n",
            "151          48,674            1      1,621,909      2,331,533  \n",
            "152          47,563          111        249,838         77,463  \n",
            "153          43,982        2,098        249,149      9,292,169  \n",
            "154          44,720          971        496,693        165,529  \n",
            "155          42,438        1,319        177,885        107,609  \n",
            "158          39,943          666        358,675      1,274,727  \n",
            "159          39,061            3        806,803      8,680,837  \n",
            "160          37,757           16        660,107     13,865,691  \n",
            "162          36,366          292        257,839        400,516  \n",
            "163          25,980        8,087        431,221      2,175,699  \n",
            "165          33,033          183        132,422     11,680,283  \n",
            "166          31,957           83        789,342     21,473,764  \n",
            "167           8,553       22,882        222,773         67,277  \n",
            "168          29,095          299        210,983        185,113  \n",
            "169          27,823            3        604,310     12,784,726  \n",
            "170          13,182       12,775        400,466     16,841,795  \n",
            "171          24,006          983        347,815      5,797,805  \n",
            "173          23,276           29        157,634         34,085  \n",
            "174          23,102          175        278,529      1,369,429  \n",
            "176          21,596           33        248,995     22,102,838  \n",
            "177          21,237           14        112,457         38,387  \n",
            "178          16,579        3,709        534,283         33,704  \n",
            "179          19,358           84        182,981        113,475  \n",
            "180          18,593           16      1,024,947         61,939  \n",
            "182          18,115          115        410,280     11,618,511  \n",
            "184          16,883          124        365,697      1,496,662  \n",
            "185          15,638        1,083        535,009        107,749  \n",
            "186           1,605       14,453        187,397        202,239  \n",
            "187          15,982            9         78,646         39,783  \n",
            "188          15,673           13        229,344         72,344  \n",
            "189          15,427           74        305,941      1,016,097  \n",
            "191          15,200           55         81,294      5,016,678  \n",
            "192          12,189           25        155,686      2,558,482  \n",
            "193           1,399       10,771        112,382         39,730  \n",
            "194          11,976           24         24,976        321,832  \n",
            "195           2,761        9,189        164,926         56,973  \n",
            "196           9,124          662        329,592     31,154,867  \n",
            "197          10,476        1,147         30,126         26,647  \n",
            "198          10,905           16         62,056         43,966  \n",
            "199          10,086            0         23,693      3,662,244  \n",
            "200           8,890          729        254,538     26,083,660  \n",
            "201           9,454            8        113,504        111,551  \n",
            "202           8,954            6         18,901         99,509  \n",
            "204           8,656          115        145,231      2,063,367  \n",
            "205           7,766            2        139,824      5,305,117  \n",
            "207           4,874        2,584        191,341     17,413,580  \n",
            "209           6,993           16         19,690         17,571  \n",
            "210           6,537            9        126,903         53,871  \n",
            "211           6,451           33        611,527         39,741  \n",
            "212           6,202            1         29,036        227,679  \n",
            "213           5,976            1         68,820         18,233  \n",
            "216           4,609           11         20,509         10,903  \n",
            "217           3,879           13         51,382         15,230  \n",
            "218           3,357           11          7,850        667,490  \n",
            "219           2,449        1,001         25,400          5,759  \n",
            "220             438        2,982         20,508         10,982  \n",
            "224           1,376           19         17,762          4,965  \n"
          ]
        }
      ],
      "source": [
        "# Visualizar a base de dados novamente\n",
        "import pandas as pd\n",
        "pd.set_option('display.max_rows', None)\n",
        "print(df)"
      ]
    },
    {
      "cell_type": "code",
      "execution_count": null,
      "id": "c092b9ce",
      "metadata": {
        "id": "c092b9ce",
        "colab": {
          "base_uri": "https://localhost:8080/"
        },
        "outputId": "73e14a51-3935-4e15-adc6-b1ecf2c46489"
      },
      "outputs": [
        {
          "output_type": "stream",
          "name": "stdout",
          "text": [
            "       Serial Number\n",
            "count     195.000000\n",
            "mean      107.189744\n",
            "std        64.303965\n",
            "min         1.000000\n",
            "25%        51.500000\n",
            "50%       104.000000\n",
            "75%       162.000000\n",
            "max       225.000000\n"
          ]
        }
      ],
      "source": [
        "# Verificar as informações estatísticas da base importada, como: média, mediana, desvio padrão e quartis\n",
        "\n",
        "import pandas as pd\n",
        "\n",
        "\n",
        "# Para obter um resumo estatístico da base de dados\n",
        "estatisticas = df.describe()\n",
        "\n",
        "# Imprimir o resumo estatístico\n",
        "print(estatisticas)\n",
        "\n",
        "#estatisticas = df.describe(include='all')"
      ]
    },
    {
      "cell_type": "code",
      "execution_count": null,
      "id": "3de4b951",
      "metadata": {
        "id": "3de4b951"
      },
      "outputs": [],
      "source": [
        "# Aplicar filtros necessários para responder as 3 questões acima"
      ]
    },
    {
      "cell_type": "code",
      "source": [
        "#Os top 10 países que mais registraram casos de COVID?\n",
        "\n",
        "top10_casos = df.sort_values(by='Total Cases', ascending=False).head(10)\n",
        "print(top10_casos)\n",
        "\n"
      ],
      "metadata": {
        "colab": {
          "base_uri": "https://localhost:8080/"
        },
        "id": "XDRryOOQAFY5",
        "outputId": "ad35eb3d-877a-40ac-da85-9a639d91880e"
      },
      "id": "XDRryOOQAFY5",
      "execution_count": null,
      "outputs": [
        {
          "output_type": "stream",
          "name": "stdout",
          "text": [
            "     Serial Number                 Country Total Cases Total Deaths  \\\n",
            "73              74                 Belarus     994,037        7,118   \n",
            "131            132           French Guiana      98,028          420   \n",
            "74              75                  Latvia     975,355        6,218   \n",
            "132            133                     DRC      95,514        1,463   \n",
            "200            201                   Niger       9,931          312   \n",
            "201            202  St. Vincent Grenadines       9,585          123   \n",
            "15              16                  Taiwan   9,569,611       16,356   \n",
            "202            203     Antigua and Barbuda       9,106          146   \n",
            "133            134                 Senegal      88,902        1,971   \n",
            "134            135                  Malawi      88,559        2,686   \n",
            "\n",
            "    Total Recovered Active Cases  Total Test  Population  \n",
            "73          985,592        1,327  13,646,641   9,432,800  \n",
            "131          11,254       86,354     651,257     314,169  \n",
            "74          968,830          307   7,858,319   1,848,837  \n",
            "132          84,264        9,787     846,704  95,240,792  \n",
            "200           8,890          729     254,538  26,083,660  \n",
            "201           9,454            8     113,504     111,551  \n",
            "15        9,129,766      423,489  30,207,485  23,888,595  \n",
            "202           8,954            6      18,901      99,509  \n",
            "133          86,929            2   1,146,543  17,653,671  \n",
            "134          85,369          504     624,784  20,180,839  \n"
          ]
        }
      ]
    },
    {
      "cell_type": "code",
      "source": [
        "#Os top 10 países que mais apresentaram casos de morte por COVID?\n",
        "\n",
        "top10_mortes = df.sort_values(by='Total Deaths', ascending=False).head(10)\n",
        "print(top10_mortes)\n",
        "\n"
      ],
      "metadata": {
        "colab": {
          "base_uri": "https://localhost:8080/"
        },
        "id": "M2Us_32HAPO5",
        "outputId": "b7ed3696-7d7c-47d7-9b03-3a99e1cc84d2"
      },
      "id": "M2Us_32HAPO5",
      "execution_count": null,
      "outputs": [
        {
          "output_type": "stream",
          "name": "stdout",
          "text": [
            "     Serial Number          Country Total Cases Total Deaths Total Recovered  \\\n",
            "145            146       Mauritania      63,665          997          62,437   \n",
            "93              94          Réunion     485,895          919         418,572   \n",
            "98              99  North Macedonia     346,428        9,638         336,623   \n",
            "75              76     Saudi Arabia     827,962        9,574         815,528   \n",
            "57              58        Lithuania   1,296,865        9,545       1,282,528   \n",
            "64              65       Costa Rica   1,186,176        9,158         860,711   \n",
            "213            214            Palau       5,986            9           5,976   \n",
            "177            178    Liechtenstein      21,340           89          21,237   \n",
            "198            199     Sint Maarten      11,010           89          10,905   \n",
            "142            143             Fiji      68,820          883          66,780   \n",
            "\n",
            "    Active Cases  Total Test  Population  \n",
            "145          231   1,009,957   4,901,981  \n",
            "93        66,404   1,603,660     908,061  \n",
            "98           167   2,216,193   2,081,304  \n",
            "75         2,860  45,048,008  35,844,909  \n",
            "57         4,792  10,350,770   2,661,708  \n",
            "64       316,307   4,659,757   5,182,354  \n",
            "213            1      68,820      18,233  \n",
            "177           14     112,457      38,387  \n",
            "198           16      62,056      43,966  \n",
            "142        1,157     667,715     909,466  \n"
          ]
        }
      ]
    },
    {
      "cell_type": "code",
      "source": [
        "#Onde os casos ainda são altos?\n",
        "\n",
        "\n",
        "paises_altos_casos = df.sort_values(by='Active Cases', ascending=False).head(10)\n",
        "print(top10_mortes)\n"
      ],
      "metadata": {
        "colab": {
          "base_uri": "https://localhost:8080/"
        },
        "id": "IyIXK1STAPAw",
        "outputId": "6d38b518-616b-4f4a-f3d1-8efe1e1c3fd5"
      },
      "id": "IyIXK1STAPAw",
      "execution_count": null,
      "outputs": [
        {
          "output_type": "stream",
          "name": "stdout",
          "text": [
            "     Serial Number          Country Total Cases Total Deaths Total Recovered  \\\n",
            "145            146       Mauritania      63,665          997          62,437   \n",
            "93              94          Réunion     485,895          919         418,572   \n",
            "98              99  North Macedonia     346,428        9,638         336,623   \n",
            "75              76     Saudi Arabia     827,962        9,574         815,528   \n",
            "57              58        Lithuania   1,296,865        9,545       1,282,528   \n",
            "64              65       Costa Rica   1,186,176        9,158         860,711   \n",
            "213            214            Palau       5,986            9           5,976   \n",
            "177            178    Liechtenstein      21,340           89          21,237   \n",
            "198            199     Sint Maarten      11,010           89          10,905   \n",
            "142            143             Fiji      68,820          883          66,780   \n",
            "\n",
            "    Active Cases  Total Test  Population  \n",
            "145          231   1,009,957   4,901,981  \n",
            "93        66,404   1,603,660     908,061  \n",
            "98           167   2,216,193   2,081,304  \n",
            "75         2,860  45,048,008  35,844,909  \n",
            "57         4,792  10,350,770   2,661,708  \n",
            "64       316,307   4,659,757   5,182,354  \n",
            "213            1      68,820      18,233  \n",
            "177           14     112,457      38,387  \n",
            "198           16      62,056      43,966  \n",
            "142        1,157     667,715     909,466  \n"
          ]
        }
      ]
    }
  ],
  "metadata": {
    "kernelspec": {
      "display_name": "Python 3",
      "language": "python",
      "name": "python3"
    },
    "language_info": {
      "codemirror_mode": {
        "name": "ipython",
        "version": 3
      },
      "file_extension": ".py",
      "mimetype": "text/x-python",
      "name": "python",
      "nbconvert_exporter": "python",
      "pygments_lexer": "ipython3",
      "version": "3.8.8"
    },
    "papermill": {
      "default_parameters": {},
      "duration": 33.065876,
      "end_time": "2023-03-22T07:30:25.943477",
      "environment_variables": {},
      "exception": null,
      "input_path": "__notebook__.ipynb",
      "output_path": "__notebook__.ipynb",
      "parameters": {},
      "start_time": "2023-03-22T07:29:52.877601",
      "version": "2.4.0"
    },
    "colab": {
      "provenance": []
    }
  },
  "nbformat": 4,
  "nbformat_minor": 5
}