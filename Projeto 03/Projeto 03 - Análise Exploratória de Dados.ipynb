{
 "cells": [
  {
   "cell_type": "markdown",
   "id": "e4b89b9d",
   "metadata": {},
   "source": [
    "# ALUNOS: \n",
    "\n"
   ]
  },
  {
   "cell_type": "markdown",
   "id": "5afa8893",
   "metadata": {},
   "source": [
    "\n",
    "# ANÁLISE EXPLORATÓRIA DE DADOS\n",
    "\n",
    "## Etapas: Entendimento do problema, Tratamento dos Dados, Visualização dos dados e Análise Exploratória dos Dados\n",
    "\n",
    "\n",
    "## Características principais:\n",
    "- Date: A data dos dados de preço das ações.\n",
    "- Open: O preço de abertura da ação nessa data.\n",
    "- High: O maior preço que a ação atingiu durante o pregão.\n",
    "- Low: O menor preço que a ação atingiu durante o pregão.\n",
    "- Close: O preço de fechamento da ação nessa data.\n",
    "- Volume: O volume de negociação, ou seja, o número de ações negociadas naquela data.\n",
    "- Dividends: Dividendos pagos nessa data (se houver).\n",
    "- Stock Splits: Informações sobre desdobramentos de ações (se houver).\n",
    "- Brand_Name: O nome da marca ou empresa.\n",
    "- Ticker: Símbolo de ticker para a ação.\n",
    "- Industry_Tag: A ca\n",
    "egoria de indústria ou setor ao qual a marca pertence.\n",
    "- Country: O país onde a marca está sediada ou opera principalmente.\n",
    "\n",
    "## Análises potenciais da base\n",
    "\n",
    "- Análise do Mercado de Ações: Analisar os preços históricos das ações para identificar tendências e padrões no mercado de ações.\n",
    "- Brand Performance: Avalie o desempenho de várias marcas no mercado de ações ao longo do tempo.\n",
    "- Estratégias de Investimento: Desenvolver estratégias de investimento com base em dados históricos de ações de marcas específicas.\n",
    "- Análise Setorial: Explore como diferentes indústrias ou setores estão se comportando no mercado de ações.\n",
    "- Comparação entre países: Compare o desempenho das ações das marcas em diferentes países.\n",
    "- Análise de Sentimento de Mercado: Analise os movimentos dos preços das ações em relação a notícias ou eventos que afetam marcas ou setores específicos.\n",
    "\n",
    "## Escolha um tipo de Análise e realize a Análise Exploratória de acordo com o DataSet selecionado"
   ]
  },
  {
   "cell_type": "markdown",
   "id": "2af59512",
   "metadata": {},
   "source": [
    "# Qual foi a Análise escolhida?\n",
    "Resposta:"
   ]
  },
  {
   "cell_type": "markdown",
   "id": "3542c592",
   "metadata": {},
   "source": [
    "# Importar e visualizar a base"
   ]
  },
  {
   "cell_type": "code",
   "execution_count": null,
   "id": "07d87618",
   "metadata": {},
   "outputs": [],
   "source": [
    "# Importar as bibliotecas necessárias para solucionar o probema"
   ]
  },
  {
   "cell_type": "code",
   "execution_count": null,
   "id": "baf8cb17",
   "metadata": {},
   "outputs": [],
   "source": [
    "# Importar a base de dados"
   ]
  },
  {
   "cell_type": "code",
   "execution_count": null,
   "id": "82469925",
   "metadata": {},
   "outputs": [],
   "source": [
    "# Visualizar os 4 primeiras linhas da base"
   ]
  },
  {
   "cell_type": "code",
   "execution_count": null,
   "id": "68d86c7a",
   "metadata": {},
   "outputs": [],
   "source": [
    "# Visualizar os 4 últimas linhas da base"
   ]
  },
  {
   "cell_type": "code",
   "execution_count": null,
   "id": "b2058c43",
   "metadata": {},
   "outputs": [],
   "source": [
    "# Visualizar a quantidade de linhas e colunas da base "
   ]
  },
  {
   "cell_type": "markdown",
   "id": "2efc3b52",
   "metadata": {},
   "source": [
    "## Visualizando um resumo das informações"
   ]
  },
  {
   "cell_type": "code",
   "execution_count": null,
   "id": "47d89796",
   "metadata": {},
   "outputs": [],
   "source": [
    "# Verificando o domínio dos dados"
   ]
  },
  {
   "cell_type": "code",
   "execution_count": null,
   "id": "76c7ea05",
   "metadata": {},
   "outputs": [],
   "source": [
    "# Corrigir o domínio do campo Date"
   ]
  },
  {
   "cell_type": "code",
   "execution_count": null,
   "id": "c4f14ece",
   "metadata": {},
   "outputs": [],
   "source": [
    "# Contando a quantidade de valores nulos"
   ]
  },
  {
   "cell_type": "code",
   "execution_count": null,
   "id": "a3e1f663",
   "metadata": {},
   "outputs": [],
   "source": [
    "# Verificando as informações estatísticas da base"
   ]
  },
  {
   "cell_type": "markdown",
   "id": "049e0f7e",
   "metadata": {},
   "source": [
    "A cardinalidade nos ajuda a saber a quantidade de dados distintos em uma coluna\n",
    "\n",
    "Se tivermos muitos valores distintos, provavelmente aquela coluna não será uma boa opção para usarmos no modelo\n",
    "Matematicamente, cardinalidade é o número de elementos de um conjunto\n",
    "Podemos verificar a cardinalidade usando o .nunique()"
   ]
  },
  {
   "cell_type": "code",
   "execution_count": null,
   "id": "de8ac456",
   "metadata": {},
   "outputs": [],
   "source": [
    "# Verificando a cardinalidade da base"
   ]
  },
  {
   "cell_type": "markdown",
   "id": "87450976",
   "metadata": {},
   "source": [
    "## Visualizando de forma gráfica"
   ]
  },
  {
   "cell_type": "code",
   "execution_count": null,
   "id": "3b89bbc1",
   "metadata": {},
   "outputs": [],
   "source": [
    "# Visualizando a informação da cardinalidade de forma gráfica (eixo X = índice e eixo Y = cardinalidade )"
   ]
  },
  {
   "cell_type": "code",
   "execution_count": null,
   "id": "7adb8e28",
   "metadata": {},
   "outputs": [],
   "source": [
    "# Visualizando a informação anterior de forma gráfica em ordem decrescente"
   ]
  },
  {
   "cell_type": "code",
   "execution_count": null,
   "id": "81b5463a",
   "metadata": {},
   "outputs": [],
   "source": [
    "# Verificando o histograma do volume negociado por país "
   ]
  },
  {
   "cell_type": "code",
   "execution_count": null,
   "id": "d6b23a54",
   "metadata": {},
   "outputs": [],
   "source": [
    "# Verificando o histograma do volume negociado por país apenas para os 8 maiores volumes de negociação por país"
   ]
  },
  {
   "cell_type": "markdown",
   "id": "5a4b7186",
   "metadata": {},
   "source": [
    "## O boxplot\n",
    "- Permite visualizar os percentis e valores máximo e mínimo dos dados\n",
    "- Permite visualizar, além de simetria e dispersão dos dados, valores extremos (outliers)\n",
    "- O valor máximo e mínimo são calculados baseado no interquartil"
   ]
  },
  {
   "cell_type": "code",
   "execution_count": null,
   "id": "63106ad7",
   "metadata": {},
   "outputs": [],
   "source": [
    "# Verificando para a coluna Volume"
   ]
  },
  {
   "cell_type": "code",
   "execution_count": null,
   "id": "bc614376",
   "metadata": {},
   "outputs": [],
   "source": [
    "# Criando o boxplot para as colunas Open e Close "
   ]
  },
  {
   "cell_type": "code",
   "execution_count": null,
   "id": "6f2c75b4",
   "metadata": {},
   "outputs": [],
   "source": [
    "# Criando o boxplot para as colunas Low e High "
   ]
  },
  {
   "cell_type": "code",
   "execution_count": null,
   "id": "8d242d24",
   "metadata": {},
   "outputs": [],
   "source": [
    "# Determinando o interquartil"
   ]
  },
  {
   "cell_type": "code",
   "execution_count": null,
   "id": "d1faa307",
   "metadata": {},
   "outputs": [],
   "source": [
    "# Calculando o valor máximo e mínimo"
   ]
  },
  {
   "cell_type": "code",
   "execution_count": null,
   "id": "0992e825",
   "metadata": {},
   "outputs": [],
   "source": [
    "# Verificando a quantidade de registros em cada intervalo (<Q1, entre Q1 e Q2, entre Q2 e Q3,>Q3)"
   ]
  },
  {
   "cell_type": "code",
   "execution_count": null,
   "id": "96330eb5",
   "metadata": {},
   "outputs": [],
   "source": [
    "# Verificando para as colunas Open e Close"
   ]
  },
  {
   "cell_type": "markdown",
   "id": "b68525c0",
   "metadata": {},
   "source": [
    "## Criando uma matriz para mostrar a correlação de cada par de variáveis**\n",
    "- Podemos usar do pandas o `.plotting.scatter_matrix()` ou do seaborn o `.pairplot()`"
   ]
  },
  {
   "cell_type": "code",
   "execution_count": null,
   "id": "bc5ab8ea",
   "metadata": {},
   "outputs": [],
   "source": [
    "# Apresentar a matriz de correção da base"
   ]
  },
  {
   "cell_type": "code",
   "execution_count": null,
   "id": "a40b717a",
   "metadata": {},
   "outputs": [],
   "source": [
    "# Apresentar a matriz de correlação da base plotando no pairplot"
   ]
  },
  {
   "cell_type": "markdown",
   "id": "2561a4b3",
   "metadata": {},
   "source": [
    "## Visualizando apenas o KDE**\n",
    "- KDE: Kernel Density Estimation\n",
    "    - Mede a chance de uma variável aleatória assumir determinado valor\n",
    "    - A probabilidade é dada pela integral abaixo da curva na faixa de valor selecionada\n",
    "- Parece uma \"versão de linha suavizada\" de um histograma"
   ]
  },
  {
   "cell_type": "code",
   "execution_count": null,
   "id": "81dca9bb",
   "metadata": {},
   "outputs": [],
   "source": [
    "# Fazendo o kde do volume negociado por país "
   ]
  },
  {
   "cell_type": "markdown",
   "id": "768ec177",
   "metadata": {},
   "source": [
    "## Heatmap de correlação"
   ]
  },
  {
   "cell_type": "code",
   "execution_count": null,
   "id": "d3b309ee",
   "metadata": {},
   "outputs": [],
   "source": [
    "# Verificando a correlação entre os dados utilizando o heatmap"
   ]
  },
  {
   "cell_type": "code",
   "execution_count": null,
   "id": "d8bd77b5",
   "metadata": {},
   "outputs": [],
   "source": [
    "# Excluir colunas desnecessárias"
   ]
  },
  {
   "cell_type": "code",
   "execution_count": null,
   "id": "33861027",
   "metadata": {},
   "outputs": [],
   "source": [
    "# Conclusão: identifique quais colunas (variáveis) seriam utilizadas em um modelo de aprendizagem de máquina"
   ]
  },
  {
   "cell_type": "markdown",
   "id": "0fb83e24",
   "metadata": {},
   "source": [
    "# Pandas Profiling\n",
    "https://pypi.org/project/pandas-profiling/"
   ]
  },
  {
   "cell_type": "code",
   "execution_count": null,
   "id": "ad2d8378",
   "metadata": {},
   "outputs": [],
   "source": [
    "# Instalar e importar o pandas profiling"
   ]
  },
  {
   "cell_type": "code",
   "execution_count": null,
   "id": "83f41373",
   "metadata": {},
   "outputs": [],
   "source": [
    "# Gerando o relatório"
   ]
  },
  {
   "cell_type": "code",
   "execution_count": null,
   "id": "9ba89fbd",
   "metadata": {},
   "outputs": [],
   "source": [
    "# Visualizar o relatório"
   ]
  }
 ],
 "metadata": {
  "kernelspec": {
   "display_name": "Python 3",
   "language": "python",
   "name": "python3"
  },
  "language_info": {
   "codemirror_mode": {
    "name": "ipython",
    "version": 3
   },
   "file_extension": ".py",
   "mimetype": "text/x-python",
   "name": "python",
   "nbconvert_exporter": "python",
   "pygments_lexer": "ipython3",
   "version": "3.8.8"
  }
 },
 "nbformat": 4,
 "nbformat_minor": 5
}
